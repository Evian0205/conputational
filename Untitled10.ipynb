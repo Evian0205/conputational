{
  "nbformat": 4,
  "nbformat_minor": 0,
  "metadata": {
    "colab": {
      "name": "Untitled10.ipynb",
      "provenance": [],
      "authorship_tag": "ABX9TyNPiPpuJVn4SzW9Gcd/IgpG",
      "include_colab_link": true
    },
    "kernelspec": {
      "name": "python3",
      "display_name": "Python 3"
    }
  },
  "cells": [
    {
      "cell_type": "markdown",
      "metadata": {
        "id": "view-in-github",
        "colab_type": "text"
      },
      "source": [
        "<a href=\"https://colab.research.google.com/github/Evian0205/conputational/blob/master/Untitled10.ipynb\" target=\"_parent\"><img src=\"https://colab.research.google.com/assets/colab-badge.svg\" alt=\"Open In Colab\"/></a>"
      ]
    },
    {
      "cell_type": "code",
      "metadata": {
        "id": "rKw_9_Zc1DTw",
        "colab_type": "code",
        "colab": {
          "base_uri": "https://localhost:8080/",
          "height": 132
        },
        "outputId": "6b4986d3-3a2b-4d81-ab44-381f476f857a"
      },
      "source": [
        "n=\"again\"\n",
        "list1=[\"Lauv-Paris in the rain\",\"王若琳-I love you\",\"陳鴻宇-理想三旬\",\n",
        "\"Talor Swift-bad blood\",\"伍佰-與你到永久\",\"周華健-雨人\",\"賴慈泓-我只能在夢裡\",\n",
        "\"鄭興-台北下的雨\",\"好妹妹樂隊-往事只能回味\",\"鄭興-過於喧囂的孤獨\"]\n",
        "list2=[\"The Walters-I love you so\",\"Ed Sheeren&Justin Bieber-I don't care\",\n",
        "\"Peach it-peach it\",\"王若琳-檸檬樹\",\"Soulfa-Lover song\",\"椅子樂團-日常的鏡頭\",\n",
        "\"椅子樂團-Rollin on\",\"白安-所愛之初\",\"五月天-笑忘歌\",\"無妄合作社-山頭\"]\n",
        "list3=[\"郁可唯-時間煮雨\",\"Fozen-Do you want to build a snowman\",\"蘇打綠-痛快的哀艷\"\n",
        "\"蘇打綠-牆外的風景\",\"蘇打綠-everyone\",\"蘇打綠-末了\",\"馬頔-傲寒\",\"劉昊霖-兒時\"\n",
        "\"劉昊霖-landing guy\",\"Carpenters-yesterday once more\"]\n",
        "while n ==\"again\":\n",
        "  a=input(\"請輸入今日的天氣\")\n",
        "  if a==\"雨天\":\n",
        "     print(\"那推薦你幾首歌來搭配今天的天氣吧\")\n",
        "     list4=random.sample(list1,3)\n",
        "     for i in range(3):\n",
        "         w=list4[i]\n",
        "         print(w)\n",
        "     n=input(\"如果要在執行一次請輸入again，若要結束請按enter:\")\n",
        "\n",
        "\n",
        "     elif a==\"晴天\":\n",
        "        print(\"那推薦你幾首歌來搭配今天的天氣吧\")\n",
        "        list4=random.sample(list3,3)\n",
        "        for i in range(3):\n",
        "            w=list4[i]\n",
        "            print(w)\n",
        "        n=input(\"如果要在執行一次請輸入again，若要結束請按enter:\")\n",
        "\n",
        "     elif a==\"下雪\":\n",
        "         print(\"那推薦你幾首歌來搭配今天的天氣吧\")\n",
        "         list4=random.sample(list3,3)\n",
        "         for i in range(3):\n",
        "            w=list4[i]\n",
        "            print(w)\n",
        "         n=input(\"如果要在執行一次請輸入again，若要結束請按enter:\")\n",
        "\n",
        "\n",
        "         else:\n",
        "           print(\"此天氣不在服務範圍內\")\n",
        "           n=input(\"如果要在執行一次請輸入again，若要結束請按enter:\")\n",
        "           print(\"那我們下次再見吧!祝你有美好的一天!另外，記得出門要勤洗手和戴口罩喔~\")\n",
        "\n",
        "\n",
        "\n",
        "\n",
        "\n",
        "\n",
        "\n",
        "\n",
        "\n",
        "\n",
        "\n",
        "\n",
        "\n",
        "\n"
      ],
      "execution_count": 3,
      "outputs": [
        {
          "output_type": "error",
          "ename": "SyntaxError",
          "evalue": "ignored",
          "traceback": [
            "\u001b[0;36m  File \u001b[0;32m\"<ipython-input-3-f30eff550b8d>\"\u001b[0;36m, line \u001b[0;32m22\u001b[0m\n\u001b[0;31m    elif a==\"晴天\":\u001b[0m\n\u001b[0m       ^\u001b[0m\n\u001b[0;31mSyntaxError\u001b[0m\u001b[0;31m:\u001b[0m invalid syntax\n"
          ]
        }
      ]
    }
  ]
}