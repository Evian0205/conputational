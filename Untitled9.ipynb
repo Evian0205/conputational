{
  "nbformat": 4,
  "nbformat_minor": 0,
  "metadata": {
    "colab": {
      "name": "Untitled9.ipynb",
      "provenance": []
    },
    "kernelspec": {
      "name": "python3",
      "display_name": "Python 3"
    }
  },
  "cells": [
    {
      "cell_type": "code",
      "metadata": {
        "id": "MeFftvaSo2M5",
        "colab_type": "code",
        "outputId": "e9e4c6d0-dd68-4820-d058-aaecd9aa6089",
        "colab": {
          "base_uri": "https://localhost:8080/",
          "height": 69
        }
      },
      "source": [
        "score = int(input(\"輸入成績\"))\n",
        "if score >= 80:\n",
        "       print(\"非常好\")\n",
        "if score >= 60:\n",
        "       print(\"不錯喔\")\n",
        "if score < 60:\n",
        "       print(\"要加油\")"
      ],
      "execution_count": 0,
      "outputs": [
        {
          "output_type": "stream",
          "text": [
            "輸入成績99\n",
            "非常好\n",
            "不錯喔\n"
          ],
          "name": "stdout"
        }
      ]
    },
    {
      "cell_type": "code",
      "metadata": {
        "id": "Wcuw1Um7q4dJ",
        "colab_type": "code",
        "outputId": "cd5f9ff3-6155-4043-d7e3-439a181f7072",
        "colab": {
          "base_uri": "https://localhost:8080/",
          "height": 51
        }
      },
      "source": [
        "score = int(input(\"輸入成績\"))\n",
        "if score >= 80:\n",
        "          print(\"非常好\")\n",
        "else:\n",
        "         if score >=60 :\n",
        "                 print(\"不錯喔\")\n",
        "         else:\n",
        "                 print(\"請加油\")\n",
        "\n"
      ],
      "execution_count": 0,
      "outputs": [
        {
          "output_type": "stream",
          "text": [
            "輸入成績57\n",
            "請加油\n"
          ],
          "name": "stdout"
        }
      ]
    },
    {
      "cell_type": "code",
      "metadata": {
        "id": "EbHWgyNtsGqJ",
        "colab_type": "code",
        "outputId": "02675dbb-87e9-4f9e-dc48-6045029985c6",
        "colab": {
          "base_uri": "https://localhost:8080/",
          "height": 51
        }
      },
      "source": [
        "score = int(input(\"輸入成績\"))\n",
        "if score >=80:\n",
        "          print(\"非常好\")\n",
        "elif score >= 60:\n",
        "          print(\"不錯喔\")\n",
        "else :\n",
        "          print(\"請加油\")         "
      ],
      "execution_count": 0,
      "outputs": [
        {
          "output_type": "stream",
          "text": [
            "輸入成績33\n",
            "請加油\n"
          ],
          "name": "stdout"
        }
      ]
    }
  ]
}