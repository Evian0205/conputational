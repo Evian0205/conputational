{
  "nbformat": 4,
  "nbformat_minor": 0,
  "metadata": {
    "colab": {
      "name": "Copy of think-week4-A108060074-3.ipynb",
      "provenance": [],
      "collapsed_sections": []
    },
    "kernelspec": {
      "name": "python3",
      "display_name": "Python 3"
    }
  },
  "cells": [
    {
      "cell_type": "code",
      "metadata": {
        "id": "vrBpa28Va0cs",
        "colab_type": "code",
        "outputId": "502cdf52-0c18-42b9-9250-ea5d89076f8e",
        "colab": {
          "base_uri": "https://localhost:8080/",
          "height": 35
        }
      },
      "source": [
        "print(\"Hello Wrorld\")"
      ],
      "execution_count": 0,
      "outputs": [
        {
          "output_type": "stream",
          "text": [
            "Hello Wrorld\n"
          ],
          "name": "stdout"
        }
      ]
    },
    {
      "cell_type": "code",
      "metadata": {
        "id": "S7Zg4xGucIFQ",
        "colab_type": "code",
        "outputId": "734be898-32d4-42cb-9a52-1975bc37150d",
        "colab": {
          "base_uri": "https://localhost:8080/",
          "height": 35
        }
      },
      "source": [
        "print(\"你好嗎\")"
      ],
      "execution_count": 0,
      "outputs": [
        {
          "output_type": "stream",
          "text": [
            "你好嗎\n"
          ],
          "name": "stdout"
        }
      ]
    },
    {
      "cell_type": "code",
      "metadata": {
        "id": "5kuj_RigdPci",
        "colab_type": "code",
        "outputId": "2fa3e650-21b8-4acc-f3b5-8d25b1163906",
        "colab": {
          "base_uri": "https://localhost:8080/",
          "height": 54
        }
      },
      "source": [
        "print(\"Hello World\")\n",
        "print(\"你好嗎\")"
      ],
      "execution_count": 0,
      "outputs": [
        {
          "output_type": "stream",
          "text": [
            "Hello World\n",
            "你好嗎\n"
          ],
          "name": "stdout"
        }
      ]
    },
    {
      "cell_type": "markdown",
      "metadata": {
        "id": "0nuUDlZ6igHu",
        "colab_type": "text"
      },
      "source": [
        "哈囉 好嗎\n"
      ]
    },
    {
      "cell_type": "markdown",
      "metadata": {
        "id": "-tfCk7K5ixaw",
        "colab_type": "text"
      },
      "source": [
        "嗨~我是陳昇鉑"
      ]
    },
    {
      "cell_type": "markdown",
      "metadata": {
        "id": "QQ-jJwcIjg6f",
        "colab_type": "text"
      },
      "source": [
        "歐耶~我是盧佳怡"
      ]
    },
    {
      "cell_type": "code",
      "metadata": {
        "id": "pZHCP36hjmW6",
        "colab_type": "code",
        "colab": {}
      },
      "source": [
        ""
      ],
      "execution_count": 0,
      "outputs": []
    }
  ]
}