{
  "nbformat": 4,
  "nbformat_minor": 0,
  "metadata": {
    "colab": {
      "name": "Untitled7.ipynb",
      "provenance": [],
      "authorship_tag": "ABX9TyNUwGWPnuIgbDCvItQUZxvL",
      "include_colab_link": true
    },
    "kernelspec": {
      "name": "python3",
      "display_name": "Python 3"
    }
  },
  "cells": [
    {
      "cell_type": "markdown",
      "metadata": {
        "id": "view-in-github",
        "colab_type": "text"
      },
      "source": [
        "<a href=\"https://colab.research.google.com/github/Evian0205/conputational/blob/master/Untitled7.ipynb\" target=\"_parent\"><img src=\"https://colab.research.google.com/assets/colab-badge.svg\" alt=\"Open In Colab\"/></a>"
      ]
    },
    {
      "cell_type": "code",
      "metadata": {
        "id": "T_n6PT8htgMh",
        "colab_type": "code",
        "colab": {}
      },
      "source": [
        "你好!我是AZ0824, 是一個聊天機器人。我喜歡動物，也喜歡食物。你叫甚麼?"
      ],
      "execution_count": 0,
      "outputs": []
    },
    {
      "cell_type": "code",
      "metadata": {
        "id": "gIJff2lIt9a9",
        "colab_type": "code",
        "colab": {
          "base_uri": "https://localhost:8080/",
          "height": 87
        },
        "outputId": "2e358b14-bf5d-46fb-b701-c025549cf50f"
      },
      "source": [
        "#聊天機器人自我介紹\n",
        "print('你好!我是AZ0824, 是一個聊天機器人')\n",
        "print('我喜歡動物，也喜歡食物。')\n",
        "\n",
        "#取得使用者名字\n",
        "name=input('你叫甚麼?')\n",
        "\n",
        "#打招呼\n",
        "print('你好!,name')"
      ],
      "execution_count": 4,
      "outputs": [
        {
          "output_type": "stream",
          "text": [
            "你好!我是AZ0824, 是一個聊天機器人\n",
            "我喜歡動物，也喜歡食物。\n",
            "你叫甚麼?Evian\n",
            "你好!,name\n"
          ],
          "name": "stdout"
        }
      ]
    }
  ]
}