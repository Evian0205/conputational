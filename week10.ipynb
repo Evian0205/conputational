{
  "nbformat": 4,
  "nbformat_minor": 0,
  "metadata": {
    "colab": {
      "name": "Untitled7.ipynb",
      "provenance": [],
      "authorship_tag": "ABX9TyN6MMmuIs5BKVG+0WXf1zxj",
      "include_colab_link": true
    },
    "kernelspec": {
      "name": "python3",
      "display_name": "Python 3"
    }
  },
  "cells": [
    {
      "cell_type": "markdown",
      "metadata": {
        "id": "view-in-github",
        "colab_type": "text"
      },
      "source": [
        "<a href=\"https://colab.research.google.com/github/Evian0205/conputational/blob/master/week10.ipynb\" target=\"_parent\"><img src=\"https://colab.research.google.com/assets/colab-badge.svg\" alt=\"Open In Colab\"/></a>"
      ]
    },
    {
      "cell_type": "code",
      "metadata": {
        "id": "Lic9OXTfhplq",
        "colab_type": "code",
        "colab": {}
      },
      "source": [
        "半徑=float(input('請輸入半徑?'))\n",
        "PI=3.14159\n",
        "圓周長=2*PI*半徑\n",
        "圓面積=半徑*半徑*PI\n",
        "print('圓周長為',圓周長,'圓面積為',圓面積)"
      ],
      "execution_count": 0,
      "outputs": []
    },
    {
      "cell_type": "code",
      "metadata": {
        "id": "g966YXQ2j-Z4",
        "colab_type": "code",
        "colab": {}
      },
      "source": [
        "c=float(input('請輸入攝氏溫度?'))\n",
        "f=c*9/5+32\n",
        "print('華氏溫度為',f)"
      ],
      "execution_count": 0,
      "outputs": []
    },
    {
      "cell_type": "code",
      "metadata": {
        "id": "YvGtSGVjkc4D",
        "colab_type": "code",
        "colab": {}
      },
      "source": [
        "上衣=int(input('請輸入上衣數量?))\n",
        "褲子=int(input('請輸入褲子數量?))\n",
        "背心=int(input('請輸入背心數量?))\n",
        "總金額=上衣*300+褲子*350+背心*400\n",
        "print('訂購服裝的總金額為',總金額)"
      ],
      "execution_count": 0,
      "outputs": []
    },
    {
      "cell_type": "code",
      "metadata": {
        "id": "uk3UGNKrlkGb",
        "colab_type": "code",
        "colab": {}
      },
      "source": [
        "罐數=int(input('請輸入購買飲料罐數?'))\n",
        "金額=(罐數//12)*200+(罐數%12)*20\n",
        "print('需花費',金額)"
      ],
      "execution_count": 0,
      "outputs": []
    },
    {
      "cell_type": "code",
      "metadata": {
        "id": "1KUVd7rdmYnZ",
        "colab_type": "code",
        "colab": {}
      },
      "source": [
        "第一次期中考成績=int(input(\"請輸入第一次期中考成績\"))\n",
        "第二次期中考成績=int(input(\"請輸入第二次期中考成績\"))\n",
        "期末考成績=int(input(\"請輸入期末考成績\"))\n",
        "總分=第一次期中考成績+第二次期中考成績+期末考成績\n",
        "print(\"總分為\",總分)\n",
        "平均分數=(第一次期中考成績 + 第二次期中考成績 + 期末考成績)//3\n",
        "print(\"平均分數為\",平均分數)"
      ],
      "execution_count": 0,
      "outputs": []
    }
  ]
}