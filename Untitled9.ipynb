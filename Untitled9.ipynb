{
  "nbformat": 4,
  "nbformat_minor": 0,
  "metadata": {
    "colab": {
      "name": "Untitled9.ipynb",
      "provenance": [],
      "authorship_tag": "ABX9TyO2YmyljM7lrz4oPK0nDpCu",
      "include_colab_link": true
    },
    "kernelspec": {
      "name": "python3",
      "display_name": "Python 3"
    }
  },
  "cells": [
    {
      "cell_type": "markdown",
      "metadata": {
        "id": "view-in-github",
        "colab_type": "text"
      },
      "source": [
        "<a href=\"https://colab.research.google.com/github/Evian0205/conputational/blob/master/Untitled9.ipynb\" target=\"_parent\"><img src=\"https://colab.research.google.com/assets/colab-badge.svg\" alt=\"Open In Colab\"/></a>"
      ]
    },
    {
      "cell_type": "code",
      "metadata": {
        "id": "MeFftvaSo2M5",
        "colab_type": "code",
        "colab": {
          "base_uri": "https://localhost:8080/",
          "height": 69
        },
        "outputId": "e9e4c6d0-dd68-4820-d058-aaecd9aa6089"
      },
      "source": [
        "score = int(input(\"輸入成績\"))\n",
        "if score >= 80:\n",
        "       print(\"非常好\")\n",
        "if score >= 60:\n",
        "       print(\"不錯喔\")\n",
        "if score < 60:\n",
        "       print(\"要加油\")"
      ],
      "execution_count": 4,
      "outputs": [
        {
          "output_type": "stream",
          "text": [
            "輸入成績99\n",
            "非常好\n",
            "不錯喔\n"
          ],
          "name": "stdout"
        }
      ]
    },
    {
      "cell_type": "code",
      "metadata": {
        "id": "Wcuw1Um7q4dJ",
        "colab_type": "code",
        "colab": {
          "base_uri": "https://localhost:8080/",
          "height": 51
        },
        "outputId": "cd5f9ff3-6155-4043-d7e3-439a181f7072"
      },
      "source": [
        "score = int(input(\"輸入成績\"))\n",
        "if score >= 80:\n",
        "          print(\"非常好\")\n",
        "else:\n",
        "         if score >=60 :\n",
        "                 print(\"不錯喔\")\n",
        "         else:\n",
        "                 print(\"請加油\")\n",
        "\n"
      ],
      "execution_count": 6,
      "outputs": [
        {
          "output_type": "stream",
          "text": [
            "輸入成績57\n",
            "請加油\n"
          ],
          "name": "stdout"
        }
      ]
    },
    {
      "cell_type": "code",
      "metadata": {
        "id": "EbHWgyNtsGqJ",
        "colab_type": "code",
        "colab": {
          "base_uri": "https://localhost:8080/",
          "height": 51
        },
        "outputId": "02675dbb-87e9-4f9e-dc48-6045029985c6"
      },
      "source": [
        "score = int(input(\"輸入成績\"))\n",
        "if score >=80:\n",
        "          print(\"非常好\")\n",
        "elif score >= 60:\n",
        "          print(\"不錯喔\")\n",
        "else :\n",
        "          print(\"請加油\")         "
      ],
      "execution_count": 8,
      "outputs": [
        {
          "output_type": "stream",
          "text": [
            "輸入成績33\n",
            "請加油\n"
          ],
          "name": "stdout"
        }
      ]
    }
  ]
}